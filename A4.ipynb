{
 "cells": [
  {
   "cell_type": "code",
   "execution_count": 1,
   "id": "7b157d32-52e5-4a12-a856-d10874a00f96",
   "metadata": {},
   "outputs": [],
   "source": [
    "# Using geospatial Functions"
   ]
  },
  {
   "cell_type": "code",
   "execution_count": null,
   "id": "05edfb5b-2a4d-476d-940e-53b0d989ea2f",
   "metadata": {},
   "outputs": [],
   "source": [
    "## Importing the Functions"
   ]
  },
  {
   "cell_type": "code",
   "execution_count": 4,
   "id": "c174bcf7-85ec-4d35-857b-badd686c0fe2",
   "metadata": {},
   "outputs": [],
   "source": [
    "import math"
   ]
  },
  {
   "cell_type": "code",
   "execution_count": 5,
   "id": "00fc17d2-38e8-4738-a865-db81bb6dd7c2",
   "metadata": {},
   "outputs": [],
   "source": [
    "## Haversine distance"
   ]
  },
  {
   "cell_type": "code",
   "execution_count": 6,
   "id": "6e97c27a-e2ed-438f-8373-913aad96a590",
   "metadata": {},
   "outputs": [
    {
     "ename": "NameError",
     "evalue": "name 'haversine_distance' is not defined",
     "output_type": "error",
     "traceback": [
      "\u001b[1;31m---------------------------------------------------------------------------\u001b[0m",
      "\u001b[1;31mNameError\u001b[0m                                 Traceback (most recent call last)",
      "Cell \u001b[1;32mIn[6], line 7\u001b[0m\n\u001b[0;32m      4\u001b[0m \u001b[38;5;66;03m# Coordinate of Rome, Italy\u001b[39;00m\n\u001b[0;32m      5\u001b[0m lat2, lon2 \u001b[38;5;241m=\u001b[39m \u001b[38;5;241m41.8919300\u001b[39m, \u001b[38;5;241m12.5113300\u001b[39m\n\u001b[1;32m----> 7\u001b[0m distance \u001b[38;5;241m=\u001b[39m \u001b[43mhaversine_distance\u001b[49m(lat1, lon1, lat2, lon2)\n\u001b[0;32m      8\u001b[0m \u001b[38;5;28mprint\u001b[39m(\u001b[38;5;124mf\u001b[39m\u001b[38;5;124m\"\u001b[39m\u001b[38;5;124mThe distance between Warsaw and Rome is approximately \u001b[39m\u001b[38;5;132;01m{\u001b[39;00mdistance\u001b[38;5;132;01m:\u001b[39;00m\u001b[38;5;124m.2f\u001b[39m\u001b[38;5;132;01m}\u001b[39;00m\u001b[38;5;124m kilometers.\u001b[39m\u001b[38;5;124m\"\u001b[39m)\n",
      "\u001b[1;31mNameError\u001b[0m: name 'haversine_distance' is not defined"
     ]
    }
   ],
   "source": [
    "# Coordinate of Warsaw, Poland\n",
    "lat1, lon1 = 52.2296756, 21.0122287\n",
    "\n",
    "# Coordinate of Rome, Italy\n",
    "lat2, lon2 = 41.8919300, 12.5113300\n",
    "\n",
    "distance = haversine_distance(lat1, lon1, lat2, lon2)\n",
    "print(f\"The distance between Warsaw and Rome is approximately {distance:.2f} kilometers.\")"
   ]
  },
  {
   "cell_type": "code",
   "execution_count": 7,
   "id": "0c456432-9f13-4880-845c-e2a5a106126c",
   "metadata": {},
   "outputs": [
    {
     "ename": "SyntaxError",
     "evalue": "invalid syntax (846107259.py, line 7)",
     "output_type": "error",
     "traceback": [
      "\u001b[1;36m  Cell \u001b[1;32mIn[7], line 7\u001b[1;36m\u001b[0m\n\u001b[1;33m    distance = `haversine_distance`(lat1, lon1, lat2, lon2)\u001b[0m\n\u001b[1;37m               ^\u001b[0m\n\u001b[1;31mSyntaxError\u001b[0m\u001b[1;31m:\u001b[0m invalid syntax\n"
     ]
    }
   ],
   "source": [
    "# Coordinate of Warsaw, Poland\n",
    "lat1, lon1 = 52.2296756, 21.0122287\n",
    "\n",
    "# Coordinate of Rome, Italy\n",
    "lat2, lon2 = 41.8919300, 12.5113300\n",
    "\n",
    "distance = `haversine_distance`(lat1, lon1, lat2, lon2)\n",
    "print(f\"The distance between Warsaw and Rome is approximately {distance:.2f} kilometers.\")"
   ]
  },
  {
   "cell_type": "code",
   "execution_count": 10,
   "id": "db91ef34-3f09-4c44-86e3-2e53722b8417",
   "metadata": {},
   "outputs": [],
   "source": [
    "## Geographic Midpoint"
   ]
  },
  {
   "cell_type": "code",
   "execution_count": 11,
   "id": "23f8b7b1-7a55-4b26-83cc-04665f3a3752",
   "metadata": {},
   "outputs": [
    {
     "ename": "NameError",
     "evalue": "name 'geographic_midpoint' is not defined",
     "output_type": "error",
     "traceback": [
      "\u001b[1;31m---------------------------------------------------------------------------\u001b[0m",
      "\u001b[1;31mNameError\u001b[0m                                 Traceback (most recent call last)",
      "Cell \u001b[1;32mIn[11], line 1\u001b[0m\n\u001b[1;32m----> 1\u001b[0m midpoint \u001b[38;5;241m=\u001b[39m \u001b[43mgeographic_midpoint\u001b[49m(lat1, lon1, lat2, lon2)\n\u001b[0;32m      2\u001b[0m \u001b[38;5;28mprint\u001b[39m(\u001b[38;5;124mf\u001b[39m\u001b[38;5;124m\"\u001b[39m\u001b[38;5;124mThe geographic midpoint between Warsaw and Rome is approximately \u001b[39m\u001b[38;5;132;01m{\u001b[39;00mmidpoint\u001b[38;5;132;01m}\u001b[39;00m\u001b[38;5;124m.\u001b[39m\u001b[38;5;124m\"\u001b[39m)\n",
      "\u001b[1;31mNameError\u001b[0m: name 'geographic_midpoint' is not defined"
     ]
    }
   ],
   "source": [
    "midpoint = geographic_midpoint(lat1, lon1, lat2, lon2)\n",
    "print(f\"The geographic midpoint between Warsaw and Rome is approximately {midpoint}.\")"
   ]
  },
  {
   "cell_type": "code",
   "execution_count": 12,
   "id": "73e2949a-dd4e-4c2b-b669-b8e7c58ff4d6",
   "metadata": {},
   "outputs": [],
   "source": [
    "## Is Within Radius"
   ]
  },
  {
   "cell_type": "code",
   "execution_count": 14,
   "id": "a8aa7102-683b-4835-8760-668823f68425",
   "metadata": {},
   "outputs": [
    {
     "ename": "NameError",
     "evalue": "name 'is_within_radius' is not defined",
     "output_type": "error",
     "traceback": [
      "\u001b[1;31m---------------------------------------------------------------------------\u001b[0m",
      "\u001b[1;31mNameError\u001b[0m                                 Traceback (most recent call last)",
      "Cell \u001b[1;32mIn[14], line 2\u001b[0m\n\u001b[0;32m      1\u001b[0m \u001b[38;5;66;03m# Check if Rome is within 1500km of Warsaw\u001b[39;00m\n\u001b[1;32m----> 2\u001b[0m radius_check \u001b[38;5;241m=\u001b[39m \u001b[43mis_within_radius\u001b[49m(lat1, lon1, lat2,lon2, \u001b[38;5;241m1500\u001b[39m)\n\u001b[0;32m      3\u001b[0m \u001b[38;5;28mprint\u001b[39m(\u001b[38;5;124mf\u001b[39m\u001b[38;5;124m\"\u001b[39m\u001b[38;5;124mRome is within 1500km of Warsaw: \u001b[39m\u001b[38;5;132;01m{\u001b[39;00mradius_check\u001b[38;5;132;01m}\u001b[39;00m\u001b[38;5;124m\"\u001b[39m)\n",
      "\u001b[1;31mNameError\u001b[0m: name 'is_within_radius' is not defined"
     ]
    }
   ],
   "source": [
    "# Check if Rome is within 1500km of Warsaw\n",
    "radius_check = is_within_radius(lat1, lon1, lat2,lon2, 1500)\n",
    "print(f\"Rome is within 1500km of Warsaw: {radius_check}\")"
   ]
  }
 ],
 "metadata": {
  "kernelspec": {
   "display_name": "Python 3 (ipykernel)",
   "language": "python",
   "name": "python3"
  },
  "language_info": {
   "codemirror_mode": {
    "name": "ipython",
    "version": 3
   },
   "file_extension": ".py",
   "mimetype": "text/x-python",
   "name": "python",
   "nbconvert_exporter": "python",
   "pygments_lexer": "ipython3",
   "version": "3.11.9"
  }
 },
 "nbformat": 4,
 "nbformat_minor": 5
}
